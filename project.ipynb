{
 "cells": [
  {
   "cell_type": "code",
   "execution_count": 1,
   "id": "65750c11-3976-4e19-bf77-4c41079b0f0c",
   "metadata": {},
   "outputs": [
    {
     "name": "stderr",
     "output_type": "stream",
     "text": [
      "── \u001b[1mAttaching packages\u001b[22m ─────────────────────────────────────── tidyverse 1.3.1 ──\n",
      "\n",
      "\u001b[32m✔\u001b[39m \u001b[34mggplot2\u001b[39m 3.3.6     \u001b[32m✔\u001b[39m \u001b[34mpurrr  \u001b[39m 0.3.4\n",
      "\u001b[32m✔\u001b[39m \u001b[34mtibble \u001b[39m 3.1.7     \u001b[32m✔\u001b[39m \u001b[34mdplyr  \u001b[39m 1.0.9\n",
      "\u001b[32m✔\u001b[39m \u001b[34mtidyr  \u001b[39m 1.2.0     \u001b[32m✔\u001b[39m \u001b[34mstringr\u001b[39m 1.4.0\n",
      "\u001b[32m✔\u001b[39m \u001b[34mreadr  \u001b[39m 2.1.2     \u001b[32m✔\u001b[39m \u001b[34mforcats\u001b[39m 0.5.1\n",
      "\n",
      "── \u001b[1mConflicts\u001b[22m ────────────────────────────────────────── tidyverse_conflicts() ──\n",
      "\u001b[31m✖\u001b[39m \u001b[34mdplyr\u001b[39m::\u001b[32mfilter()\u001b[39m masks \u001b[34mstats\u001b[39m::filter()\n",
      "\u001b[31m✖\u001b[39m \u001b[34mdplyr\u001b[39m::\u001b[32mlag()\u001b[39m    masks \u001b[34mstats\u001b[39m::lag()\n",
      "\n"
     ]
    }
   ],
   "source": [
    "library(tidyverse)\n",
    "library(emmeans)"
   ]
  },
  {
   "cell_type": "code",
   "execution_count": 3,
   "id": "ee7f767b-ac07-4461-b083-4ea8d9ece937",
   "metadata": {},
   "outputs": [
    {
     "data": {
      "text/html": [
       "<table class=\"dataframe\">\n",
       "<caption>A tibble: 6 × 6</caption>\n",
       "<thead>\n",
       "\t<tr><th scope=col>Brand</th><th scope=col>Temp</th><th scope=col>Stirred</th><th scope=col>Order</th><th scope=col>Time</th><th scope=col>OrgTime</th></tr>\n",
       "\t<tr><th scope=col>&lt;fct&gt;</th><th scope=col>&lt;fct&gt;</th><th scope=col>&lt;fct&gt;</th><th scope=col>&lt;dbl&gt;</th><th scope=col>&lt;dbl&gt;</th><th scope=col>&lt;dbl&gt;</th></tr>\n",
       "</thead>\n",
       "<tbody>\n",
       "\t<tr><td>name </td><td>6 </td><td>yes</td><td> 8</td><td>77.21547</td><td>75.525</td></tr>\n",
       "\t<tr><td>name </td><td>23</td><td>yes</td><td> 3</td><td>75.37855</td><td>68.125</td></tr>\n",
       "\t<tr><td>name </td><td>40</td><td>yes</td><td> 7</td><td>68.08492</td><td>44.825</td></tr>\n",
       "\t<tr><td>store</td><td>6 </td><td>yes</td><td> 1</td><td>77.87371</td><td>78.350</td></tr>\n",
       "\t<tr><td>store</td><td>23</td><td>yes</td><td> 2</td><td>66.38436</td><td>40.575</td></tr>\n",
       "\t<tr><td>store</td><td>40</td><td>yes</td><td>18</td><td>59.82388</td><td>27.450</td></tr>\n",
       "</tbody>\n",
       "</table>\n"
      ],
      "text/latex": [
       "A tibble: 6 × 6\n",
       "\\begin{tabular}{llllll}\n",
       " Brand & Temp & Stirred & Order & Time & OrgTime\\\\\n",
       " <fct> & <fct> & <fct> & <dbl> & <dbl> & <dbl>\\\\\n",
       "\\hline\n",
       "\t name  & 6  & yes &  8 & 77.21547 & 75.525\\\\\n",
       "\t name  & 23 & yes &  3 & 75.37855 & 68.125\\\\\n",
       "\t name  & 40 & yes &  7 & 68.08492 & 44.825\\\\\n",
       "\t store & 6  & yes &  1 & 77.87371 & 78.350\\\\\n",
       "\t store & 23 & yes &  2 & 66.38436 & 40.575\\\\\n",
       "\t store & 40 & yes & 18 & 59.82388 & 27.450\\\\\n",
       "\\end{tabular}\n"
      ],
      "text/markdown": [
       "\n",
       "A tibble: 6 × 6\n",
       "\n",
       "| Brand &lt;fct&gt; | Temp &lt;fct&gt; | Stirred &lt;fct&gt; | Order &lt;dbl&gt; | Time &lt;dbl&gt; | OrgTime &lt;dbl&gt; |\n",
       "|---|---|---|---|---|---|\n",
       "| name  | 6  | yes |  8 | 77.21547 | 75.525 |\n",
       "| name  | 23 | yes |  3 | 75.37855 | 68.125 |\n",
       "| name  | 40 | yes |  7 | 68.08492 | 44.825 |\n",
       "| store | 6  | yes |  1 | 77.87371 | 78.350 |\n",
       "| store | 23 | yes |  2 | 66.38436 | 40.575 |\n",
       "| store | 40 | yes | 18 | 59.82388 | 27.450 |\n",
       "\n"
      ],
      "text/plain": [
       "  Brand Temp Stirred Order Time     OrgTime\n",
       "1 name  6    yes      8    77.21547 75.525 \n",
       "2 name  23   yes      3    75.37855 68.125 \n",
       "3 name  40   yes      7    68.08492 44.825 \n",
       "4 store 6    yes      1    77.87371 78.350 \n",
       "5 store 23   yes      2    66.38436 40.575 \n",
       "6 store 40   yes     18    59.82388 27.450 "
      ]
     },
     "metadata": {},
     "output_type": "display_data"
    }
   ],
   "source": [
    "df_eff <- read_csv('effervescence.csv', col_types = 'fffnnn')\n",
    "df_eff %>% head()"
   ]
  },
  {
   "cell_type": "code",
   "execution_count": 8,
   "id": "ff5a0e81-39ab-4f55-8e2b-b7d7694b6bf8",
   "metadata": {},
   "outputs": [
    {
     "data": {
      "image/png": "[encoded data removed]",
      "text/plain": [
       "plot without title"
      ]
     },
     "metadata": {
      "image/png": {
       "height": 420,
       "width": 420
      }
     },
     "output_type": "display_data"
    }
   ],
   "source": [
    "df_eff %>% ggplot() + geom_boxplot(aes(x = Brand,  = Time, col = Temp))"
   ]
  },
  {
   "cell_type": "code",
   "execution_count": null,
   "id": "201c9b95-0ed2-4ab0-baa3-994196ce9146",
   "metadata": {},
   "outputs": [],
   "source": []
  }
 ],
 "metadata": {
  "kernelspec": {
   "display_name": "R",
   "language": "R",
   "name": "ir"
  },
  "language_info": {
   "codemirror_mode": "r",
   "file_extension": ".r",
   "mimetype": "text/x-r-source",
   "name": "R",
   "pygments_lexer": "r",
   "version": "4.1.3"
  }
 },
 "nbformat": 4,
 "nbformat_minor": 5
}
