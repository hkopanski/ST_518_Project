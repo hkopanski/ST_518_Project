{
 "cells": [
  {
   "cell_type": "code",
   "execution_count": 27,
   "metadata": {},
   "outputs": [],
   "source": [
    "library(tidyverse)\n",
    "library(cowplot)\n",
    "library(knitr)"
   ]
  },
  {
   "cell_type": "code",
   "execution_count": 2,
   "metadata": {},
   "outputs": [],
   "source": [
    "df_eff <- read_csv('effervescence.csv', col_types = 'fffnn')"
   ]
  },
  {
   "cell_type": "code",
   "execution_count": 3,
   "metadata": {},
   "outputs": [
    {
     "data": {
      "text/html": [
       "<table class=\"dataframe\">\n",
       "<caption>A tibble: 6 × 5</caption>\n",
       "<thead>\n",
       "\t<tr><th scope=col>Brand</th><th scope=col>Temp</th><th scope=col>Stirred</th><th scope=col>Order</th><th scope=col>Time</th></tr>\n",
       "\t<tr><th scope=col>&lt;fct&gt;</th><th scope=col>&lt;fct&gt;</th><th scope=col>&lt;fct&gt;</th><th scope=col>&lt;dbl&gt;</th><th scope=col>&lt;dbl&gt;</th></tr>\n",
       "</thead>\n",
       "<tbody>\n",
       "\t<tr><td>name </td><td>6 </td><td>yes</td><td> 8</td><td>77.21547</td></tr>\n",
       "\t<tr><td>name </td><td>23</td><td>yes</td><td> 3</td><td>75.37855</td></tr>\n",
       "\t<tr><td>name </td><td>40</td><td>yes</td><td> 7</td><td>68.08492</td></tr>\n",
       "\t<tr><td>store</td><td>6 </td><td>yes</td><td> 1</td><td>77.87371</td></tr>\n",
       "\t<tr><td>store</td><td>23</td><td>yes</td><td> 2</td><td>66.38436</td></tr>\n",
       "\t<tr><td>store</td><td>40</td><td>yes</td><td>18</td><td>59.82388</td></tr>\n",
       "</tbody>\n",
       "</table>\n"
      ],
      "text/latex": [
       "A tibble: 6 × 5\n",
       "\\begin{tabular}{lllll}\n",
       " Brand & Temp & Stirred & Order & Time\\\\\n",
       " <fct> & <fct> & <fct> & <dbl> & <dbl>\\\\\n",
       "\\hline\n",
       "\t name  & 6  & yes &  8 & 77.21547\\\\\n",
       "\t name  & 23 & yes &  3 & 75.37855\\\\\n",
       "\t name  & 40 & yes &  7 & 68.08492\\\\\n",
       "\t store & 6  & yes &  1 & 77.87371\\\\\n",
       "\t store & 23 & yes &  2 & 66.38436\\\\\n",
       "\t store & 40 & yes & 18 & 59.82388\\\\\n",
       "\\end{tabular}\n"
      ],
      "text/markdown": [
       "\n",
       "A tibble: 6 × 5\n",
       "\n",
       "| Brand &lt;fct&gt; | Temp &lt;fct&gt; | Stirred &lt;fct&gt; | Order &lt;dbl&gt; | Time &lt;dbl&gt; |\n",
       "|---|---|---|---|---|\n",
       "| name  | 6  | yes |  8 | 77.21547 |\n",
       "| name  | 23 | yes |  3 | 75.37855 |\n",
       "| name  | 40 | yes |  7 | 68.08492 |\n",
       "| store | 6  | yes |  1 | 77.87371 |\n",
       "| store | 23 | yes |  2 | 66.38436 |\n",
       "| store | 40 | yes | 18 | 59.82388 |\n",
       "\n"
      ],
      "text/plain": [
       "  Brand Temp Stirred Order Time    \n",
       "1 name  6    yes      8    77.21547\n",
       "2 name  23   yes      3    75.37855\n",
       "3 name  40   yes      7    68.08492\n",
       "4 store 6    yes      1    77.87371\n",
       "5 store 23   yes      2    66.38436\n",
       "6 store 40   yes     18    59.82388"
      ]
     },
     "metadata": {},
     "output_type": "display_data"
    }
   ],
   "source": [
    "df_eff %>% head()"
   ]
  },
  {
   "cell_type": "code",
   "execution_count": 4,
   "metadata": {},
   "outputs": [],
   "source": [
    "lm_eff <- lm(Time ~ Brand * Temp, data = df_eff)\n",
    "aov_eff <- aov(lm_eff)\n",
    "anova_eff <- anova(lm_eff)"
   ]
  },
  {
   "cell_type": "code",
   "execution_count": 5,
   "metadata": {},
   "outputs": [
    {
     "data": {
      "text/html": [
       "<table class=\"dataframe\">\n",
       "<caption>A data.frame: 4 × 5</caption>\n",
       "<thead>\n",
       "\t<tr><th scope=col>Source</th><th scope=col>Df</th><th scope=col>Sum Sq</th><th scope=col>Mean Sq</th><th scope=col>Error Term</th></tr>\n",
       "\t<tr><th scope=col>&lt;chr&gt;</th><th scope=col>&lt;int&gt;</th><th scope=col>&lt;dbl&gt;</th><th scope=col>&lt;dbl&gt;</th><th scope=col>&lt;chr&gt;</th></tr>\n",
       "</thead>\n",
       "<tbody>\n",
       "\t<tr><td>Brand     </td><td> 1</td><td> 342.0072</td><td>342.007154</td><td>MSA </td></tr>\n",
       "\t<tr><td>Temp      </td><td> 2</td><td>1654.7366</td><td>827.368276</td><td>MSB </td></tr>\n",
       "\t<tr><td>Brand*Temp</td><td> 2</td><td> 231.8519</td><td>115.925956</td><td>MSAB</td></tr>\n",
       "\t<tr><td>Residual  </td><td>42</td><td> 141.1685</td><td>  3.361154</td><td>MSE </td></tr>\n",
       "</tbody>\n",
       "</table>\n"
      ],
      "text/latex": [
       "A data.frame: 4 × 5\n",
       "\\begin{tabular}{lllll}\n",
       " Source & Df & Sum Sq & Mean Sq & Error Term\\\\\n",
       " <chr> & <int> & <dbl> & <dbl> & <chr>\\\\\n",
       "\\hline\n",
       "\t Brand      &  1 &  342.0072 & 342.007154 & MSA \\\\\n",
       "\t Temp       &  2 & 1654.7366 & 827.368276 & MSB \\\\\n",
       "\t Brand*Temp &  2 &  231.8519 & 115.925956 & MSAB\\\\\n",
       "\t Residual   & 42 &  141.1685 &   3.361154 & MSE \\\\\n",
       "\\end{tabular}\n"
      ],
      "text/markdown": [
       "\n",
       "A data.frame: 4 × 5\n",
       "\n",
       "| Source &lt;chr&gt; | Df &lt;int&gt; | Sum Sq &lt;dbl&gt; | Mean Sq &lt;dbl&gt; | Error Term &lt;chr&gt; |\n",
       "|---|---|---|---|---|\n",
       "| Brand      |  1 |  342.0072 | 342.007154 | MSA  |\n",
       "| Temp       |  2 | 1654.7366 | 827.368276 | MSB  |\n",
       "| Brand*Temp |  2 |  231.8519 | 115.925956 | MSAB |\n",
       "| Residual   | 42 |  141.1685 |   3.361154 | MSE  |\n",
       "\n"
      ],
      "text/plain": [
       "  Source     Df Sum Sq    Mean Sq    Error Term\n",
       "1 Brand       1  342.0072 342.007154 MSA       \n",
       "2 Temp        2 1654.7366 827.368276 MSB       \n",
       "3 Brand*Temp  2  231.8519 115.925956 MSAB      \n",
       "4 Residual   42  141.1685   3.361154 MSE       "
      ]
     },
     "metadata": {},
     "output_type": "display_data"
    }
   ],
   "source": [
    "me_table <- as_tibble(anova_eff[,1:3])\n",
    "me_table <- cbind('Source' = c('Brand', 'Temp', 'Brand*Temp', 'Residual'), \n",
    "                  me_table, \n",
    "                  'Error Term' = c(\"MSA\", \"MSB\", \"MSAB\", \"MSE\"))\n",
    "me_table"
   ]
  },
  {
   "cell_type": "code",
   "execution_count": 6,
   "metadata": {},
   "outputs": [
    {
     "data": {
      "text/plain": [
       "\n",
       "\n",
       "Table: Mixed Effects Models\n",
       "\n",
       "|Source     | Df|    Sum Sq|    Mean Sq|Error Term | Error Df|   F Score|   Pr>F|\n",
       "|:----------|--:|---------:|----------:|:----------|--------:|---------:|------:|\n",
       "|Brand      |  1|  342.0072| 342.007154|MSA        |        2|  2.950221| 0.2280|\n",
       "|Temp       |  2| 1654.7366| 827.368276|MSB        |        2|  7.137041| 0.1229|\n",
       "|Brand*Temp |  2|  231.8519| 115.925956|MSAB       |       42| 34.489926| 0.0000|\n",
       "|Residual   | 42|  141.1685|   3.361154|MSE        |       NA|        NA|     NA|"
      ]
     },
     "metadata": {},
     "output_type": "display_data"
    },
    {
     "data": {
      "text/plain": [
       "\n",
       "\n",
       "Table: Model4: Brand is Fixed and Temperature is Random\n",
       "\n",
       "|Brand |     Mean|    Effect|\n",
       "|:-----|--------:|---------:|\n",
       "|name  | 73.44276|  0.000000|\n",
       "|store | 68.10416| -5.338595|"
      ]
     },
     "metadata": {},
     "output_type": "display_data"
    },
    {
     "data": {
      "text/plain": [
       "\n",
       "\n",
       "|Cov Parm   |Estimate         |\n",
       "|:----------|:----------------|\n",
       "|Temp       |44.4651449693106 |\n",
       "|Brand*Temp |14.0706002662374 |\n",
       "|Residual   |3.36115408186724 |"
      ]
     },
     "metadata": {},
     "output_type": "display_data"
    },
    {
     "data": {
      "text/plain": [
       "\n",
       "\n",
       "Table: Model5: Brand is Random and Temperature is Fixed\n",
       "\n",
       "|Temp |     Mean|     Effect|\n",
       "|:----|--------:|----------:|\n",
       "|6    | 78.00561|   0.000000|\n",
       "|23   | 70.69044|  -7.315177|\n",
       "|40   | 63.62433| -14.381286|"
      ]
     },
     "metadata": {},
     "output_type": "display_data"
    },
    {
     "data": {
      "text/plain": [
       "\n",
       "\n",
       "|Cov Parm   |Estimate         |\n",
       "|:----------|:----------------|\n",
       "|Brand      |9.42004992022257 |\n",
       "|Brand*Temp |14.0706002662374 |\n",
       "|Residual   |3.36115408186724 |"
      ]
     },
     "metadata": {},
     "output_type": "display_data"
    },
    {
     "data": {
      "text/plain": [
       "\n",
       "\n",
       "Table: Model6: Brand and Temperature are Random\n",
       "\n",
       "|Cov Parm   |Estimate         |\n",
       "|:----------|:----------------|\n",
       "|Brand      |9.42004992022257 |\n",
       "|Temp       |44.4651449693106 |\n",
       "|Brand*Temp |14.0706002662374 |\n",
       "|Residual   |3.36115408186724 |"
      ]
     },
     "metadata": {},
     "output_type": "display_data"
    }
   ],
   "source": [
    "me_table <- as_tibble(summary(aov_eff)[[1]][,1:3])\n",
    "me_table <- cbind('Source' = c('Brand', 'Temp', 'Brand*Temp', 'Residual'), \n",
    "                  me_table, \n",
    "                  'Error Term' = c(\"MSA\", \"MSB\", \"MSAB\", \"MSE\"))\n",
    "\n",
    "MSA <-  me_table[1, 4]\n",
    "MSB <-  me_table[2, 4]\n",
    "MSAB <- me_table[3, 4]\n",
    "MSE <-  me_table[4, 4]\n",
    "\n",
    "a <- length(levels(df_eff$Brand))\n",
    "b <- length(levels(df_eff$Temp))\n",
    "n <- nrow(df_eff)/(a*b)\n",
    "\n",
    "sigma_ab <- (MSAB - MSE) / n\n",
    "sigma_a <- (MSA - MSAB) / (b * n)\n",
    "sigma_b <- (MSB - MSAB) / (a*n)\n",
    "\n",
    "f_scores <- c(MSA/MSAB,MSB/MSAB,MSAB/MSE, NA)\n",
    "\n",
    "error_dof <- c(rep(tail(me_table$Df, n = 2)[1], 2), tail(me_table$Df, n = 1)[1], NA)\n",
    "\n",
    "me_table['Error Df'] <- error_dof\n",
    "\n",
    "me_table[\"F Score\"] <- f_scores\n",
    "f_test <- round(1 - pf(me_table['F Score'][[1]], \n",
    "                       me_table['Df'][[1]], \n",
    "                       me_table['Error Df'][[1]]),\n",
    "                4)\n",
    "\n",
    "me_table['Pr>F'] <- f_test\n",
    "\n",
    "se_mu <- sqrt((MSA+MSB-MSAB)/(a*b*n))\n",
    "dof_app <- (MSA + MSB - MSAB)^2 / (MSA^2/(a-1) + MSB^2/(b-1) + MSAB^2 / ((a-1)*(b-1)))\n",
    "\n",
    "name_mean <- df_eff %>% filter(Brand == 'name') %>% select(Time) %>% unlist() %>% mean()\n",
    "brand_fe <- df_eff %>% group_by(Brand) %>% summarise('Mean' = mean(Time), 'Effect' = Mean - name_mean)\n",
    "\n",
    "name_mean <- df_eff %>% filter(Temp == '6') %>% select(Time) %>% unlist() %>% mean()\n",
    "temp_fe <- df_eff %>% group_by(Temp) %>% summarise('Mean' = mean(Time), 'Effect' = Mean - name_mean)\n",
    "\n",
    "knitr::kable(me_table, caption = 'Mixed Effects Models')\n",
    "\n",
    "knitr::kable(brand_fe, caption = 'Model4: Brand is Fixed and Temperature is Random')\n",
    "knitr::kable(cbind(c('Temp', 'Brand*Temp', 'Residual'), \n",
    "                   c(sigma_b, sigma_ab, MSE)), col.names = c('Cov Parm', 'Estimate'))\n",
    "\n",
    "knitr::kable(temp_fe, caption = 'Model5: Brand is Random and Temperature is Fixed')\n",
    "knitr::kable(cbind(c('Brand', 'Brand*Temp', 'Residual'), \n",
    "                   c(sigma_a, sigma_ab, MSE)), col.names = c('Cov Parm', 'Estimate'))\n",
    "\n",
    "knitr::kable(cbind(c('Brand', 'Temp' , 'Brand*Temp', 'Residual'), \n",
    "                   c(sigma_a, sigma_b,sigma_ab, MSE)), col.names = c('Cov Parm', 'Estimate'), \n",
    "             caption = 'Model6: Brand and Temperature are Random')"
   ]
  },
  {
   "cell_type": "code",
   "execution_count": 7,
   "metadata": {},
   "outputs": [
    {
     "data": {
      "text/html": [
       "71.3169492376377"
      ],
      "text/latex": [
       "71.3169492376377"
      ],
      "text/markdown": [
       "71.3169492376377"
      ],
      "text/plain": [
       "[1] 71.31695"
      ]
     },
     "metadata": {},
     "output_type": "display_data"
    },
    {
     "data": {
      "text/html": [
       "4.68474802285316"
      ],
      "text/latex": [
       "4.68474802285316"
      ],
      "text/markdown": [
       "4.68474802285316"
      ],
      "text/plain": [
       "[1] 4.684748"
      ]
     },
     "metadata": {},
     "output_type": "display_data"
    },
    {
     "data": {
      "text/html": [
       "2.38166772492639"
      ],
      "text/latex": [
       "2.38166772492639"
      ],
      "text/markdown": [
       "2.38166772492639"
      ],
      "text/plain": [
       "[1] 2.381668"
      ]
     },
     "metadata": {},
     "output_type": "display_data"
    },
    {
     "data": {
      "text/html": [
       "0.119323493063088"
      ],
      "text/latex": [
       "0.119323493063088"
      ],
      "text/markdown": [
       "0.119323493063088"
      ],
      "text/plain": [
       "[1] 0.1193235"
      ]
     },
     "metadata": {},
     "output_type": "display_data"
    }
   ],
   "source": [
    "sum(c(sigma_a, sigma_b,sigma_ab, MSE))\n",
    "se_mu\n",
    "dof_app\n",
    "CV_hat <- sqrt(sum(c(sigma_a, sigma_b,sigma_ab, MSE)))/mean(df_eff$Time)\n",
    "CV_hat"
   ]
  },
  {
   "cell_type": "code",
   "execution_count": 8,
   "metadata": {},
   "outputs": [
    {
     "data": {
      "text/plain": [
       "\n",
       "\n",
       "Table: Mixed Effects Models\n",
       "\n",
       "|Source     | Df|     Sum Sq|     Mean Sq|Error Term | Error Df|    F Score|   Pr>F|\n",
       "|:----------|--:|----------:|-----------:|:----------|--------:|----------:|------:|\n",
       "|Brand      |  1| 265.011691| 265.0116910|MSA        |        2|   3.296209| 0.2111|\n",
       "|Temp       |  2| 838.957737| 419.4788686|MSB        |        2|   5.217468| 0.1608|\n",
       "|Brand*Temp |  2| 160.797882|  80.3989410|MSAB       |       18| 172.443232| 0.0000|\n",
       "|Residual   | 18|   8.392216|   0.4662343|MSE        |       NA|         NA|     NA|"
      ]
     },
     "metadata": {},
     "output_type": "display_data"
    },
    {
     "data": {
      "text/plain": [
       "\n",
       "\n",
       "Table: Model4: Brand is Fixed and Temperature is Random\n",
       "\n",
       "|Brand |     Mean|    Effect|\n",
       "|:-----|--------:|---------:|\n",
       "|name  | 73.44276|  0.000000|\n",
       "|store | 68.10416| -5.338595|"
      ]
     },
     "metadata": {},
     "output_type": "display_data"
    },
    {
     "data": {
      "text/plain": [
       "\n",
       "\n",
       "|Cov Parm   |Estimate          |\n",
       "|:----------|:-----------------|\n",
       "|Temp       |21.1924954718672  |\n",
       "|Brand*Temp |9.99158834511523  |\n",
       "|Residual   |0.466234250604435 |"
      ]
     },
     "metadata": {},
     "output_type": "display_data"
    },
    {
     "data": {
      "text/plain": [
       "\n",
       "\n",
       "Table: Model5: Brand is Random and Temperature is Fixed\n",
       "\n",
       "|Temp |     Mean|     Effect|\n",
       "|:----|--------:|----------:|\n",
       "|6    | 78.00561|   0.000000|\n",
       "|23   | 70.69044|  -7.315177|\n",
       "|40   | 63.62433| -14.381286|"
      ]
     },
     "metadata": {},
     "output_type": "display_data"
    },
    {
     "data": {
      "text/plain": [
       "\n",
       "\n",
       "|Cov Parm   |Estimate          |\n",
       "|:----------|:-----------------|\n",
       "|Brand      |7.6921979172706   |\n",
       "|Brand*Temp |9.99158834511523  |\n",
       "|Residual   |0.466234250604435 |"
      ]
     },
     "metadata": {},
     "output_type": "display_data"
    },
    {
     "data": {
      "text/plain": [
       "\n",
       "\n",
       "Table: Model6: Brand and Temperature are Random\n",
       "\n",
       "|Cov Parm   |Estimate          |\n",
       "|:----------|:-----------------|\n",
       "|Brand      |7.6921979172706   |\n",
       "|Temp       |21.1924954718672  |\n",
       "|Brand*Temp |9.99158834511523  |\n",
       "|Residual   |0.466234250604435 |"
      ]
     },
     "metadata": {},
     "output_type": "display_data"
    }
   ],
   "source": [
    "df_nostir <- df_eff %>% filter(Stirred == 'no')\n",
    "\n",
    "df_aov <- aov(Time ~ Brand * Temp, data = df_nostir)\n",
    "\n",
    "me_table <- as_tibble(summary(df_aov)[[1]][,1:3])\n",
    "me_table <- cbind('Source' = c('Brand', 'Temp', 'Brand*Temp', 'Residual'), \n",
    "                  me_table, \n",
    "                  'Error Term' = c(\"MSA\", \"MSB\", \"MSAB\", \"MSE\"))\n",
    "\n",
    "MSA <-  me_table[1, 4]\n",
    "MSB <-  me_table[2, 4]\n",
    "MSAB <- me_table[3, 4]\n",
    "MSE <-  me_table[4, 4]\n",
    "\n",
    "a <- length(levels(df_eff$Brand))\n",
    "b <- length(levels(df_eff$Temp))\n",
    "n <- nrow(df_eff)/(a*b)\n",
    "\n",
    "sigma_ab <- (MSAB - MSE) / n\n",
    "sigma_a <- (MSA - MSAB) / (b * n)\n",
    "sigma_b <- (MSB - MSAB) / (a*n)\n",
    "\n",
    "f_scores <- c(MSA/MSAB,MSB/MSAB,MSAB/MSE, NA)\n",
    "\n",
    "error_dof <- c(rep(tail(me_table$Df, n = 2)[1], 2), tail(me_table$Df, n = 1)[1], NA)\n",
    "\n",
    "me_table['Error Df'] <- error_dof\n",
    "\n",
    "me_table[\"F Score\"] <- f_scores\n",
    "f_test <- round(1 - pf(me_table['F Score'][[1]], \n",
    "                       me_table['Df'][[1]], \n",
    "                       me_table['Error Df'][[1]]),\n",
    "                4)\n",
    "\n",
    "me_table['Pr>F'] <- f_test\n",
    "\n",
    "\n",
    "\n",
    "name_mean <- df_eff %>% filter(Brand == 'name') %>% select(Time) %>% unlist() %>% mean()\n",
    "brand_fe <- df_eff %>% group_by(Brand) %>% summarise('Mean' = mean(Time), 'Effect' = Mean - name_mean)\n",
    "\n",
    "name_mean <- df_eff %>% filter(Temp == '6') %>% select(Time) %>% unlist() %>% mean()\n",
    "temp_fe <- df_eff %>% group_by(Temp) %>% summarise('Mean' = mean(Time), 'Effect' = Mean - name_mean)\n",
    "    \n",
    "\n",
    "\n",
    "knitr::kable(me_table, caption = 'Mixed Effects Models')\n",
    "\n",
    "knitr::kable(brand_fe, caption = 'Model4: Brand is Fixed and Temperature is Random')\n",
    "knitr::kable(cbind(c('Temp', 'Brand*Temp', 'Residual'), \n",
    "                   c(sigma_b, sigma_ab, MSE)), col.names = c('Cov Parm', 'Estimate'))\n",
    "\n",
    "knitr::kable(temp_fe, caption = 'Model5: Brand is Random and Temperature is Fixed')\n",
    "knitr::kable(cbind(c('Brand', 'Brand*Temp', 'Residual'), \n",
    "                   c(sigma_a, sigma_ab, MSE)), col.names = c('Cov Parm', 'Estimate'))\n",
    "\n",
    "knitr::kable(cbind(c('Brand', 'Temp' , 'Brand*Temp', 'Residual'), \n",
    "                   c(sigma_a, sigma_b,sigma_ab, MSE)), col.names = c('Cov Parm', 'Estimate'), \n",
    "             caption = 'Model6: Brand and Temperature are Random')"
   ]
  },
  {
   "cell_type": "code",
   "execution_count": 9,
   "metadata": {},
   "outputs": [
    {
     "data": {
      "text/html": [
       "39.3425159848574"
      ],
      "text/latex": [
       "39.3425159848574"
      ],
      "text/markdown": [
       "39.3425159848574"
      ],
      "text/plain": [
       "[1] 39.34252"
      ]
     },
     "metadata": {},
     "output_type": "display_data"
    }
   ],
   "source": [
    "sum(c(sigma_a, sigma_b,sigma_ab, MSE))"
   ]
  },
  {
   "cell_type": "code",
   "execution_count": 10,
   "metadata": {},
   "outputs": [
    {
     "data": {
      "text/plain": [
       "\n",
       "\n",
       "Table: Mixed Effects Models\n",
       "\n",
       "|Source     | Df|    Sum Sq|    Mean Sq|Error Term | Error Df|   F Score|   Pr>F|\n",
       "|:----------|--:|---------:|----------:|:----------|--------:|---------:|------:|\n",
       "|Brand      |  1|  97.50550|  97.505504|MSA        |        2|  2.434286| 0.2591|\n",
       "|Temp       |  2| 815.90352| 407.951760|MSB        |        2| 10.184770| 0.0894|\n",
       "|Brand*Temp |  2|  80.11016|  40.055078|MSAB       |       18| 21.718234| 0.0000|\n",
       "|Residual   | 18|  33.19752|   1.844306|MSE        |       NA|        NA|     NA|"
      ]
     },
     "metadata": {},
     "output_type": "display_data"
    },
    {
     "data": {
      "text/plain": [
       "\n",
       "\n",
       "Table: Model4: Brand is Fixed and Temperature is Random\n",
       "\n",
       "|Brand |     Mean|    Effect|\n",
       "|:-----|--------:|---------:|\n",
       "|name  | 73.44276|  0.000000|\n",
       "|store | 68.10416| -5.338595|"
      ]
     },
     "metadata": {},
     "output_type": "display_data"
    },
    {
     "data": {
      "text/plain": [
       "\n",
       "\n",
       "|Cov Parm   |Estimate         |\n",
       "|:----------|:----------------|\n",
       "|Temp       |22.9935426086442 |\n",
       "|Brand*Temp |4.77634650025858 |\n",
       "|Residual   |1.84430644204827 |"
      ]
     },
     "metadata": {},
     "output_type": "display_data"
    },
    {
     "data": {
      "text/plain": [
       "\n",
       "\n",
       "Table: Model5: Brand is Random and Temperature is Fixed\n",
       "\n",
       "|Temp |     Mean|     Effect|\n",
       "|:----|--------:|----------:|\n",
       "|6    | 78.00561|   0.000000|\n",
       "|23   | 70.69044|  -7.315177|\n",
       "|40   | 63.62433| -14.381286|"
      ]
     },
     "metadata": {},
     "output_type": "display_data"
    },
    {
     "data": {
      "text/plain": [
       "\n",
       "\n",
       "|Cov Parm   |Estimate         |\n",
       "|:----------|:----------------|\n",
       "|Brand      |2.393767732355   |\n",
       "|Brand*Temp |4.77634650025858 |\n",
       "|Residual   |1.84430644204827 |"
      ]
     },
     "metadata": {},
     "output_type": "display_data"
    },
    {
     "data": {
      "text/plain": [
       "\n",
       "\n",
       "Table: Model6: Brand and Temperature are Random\n",
       "\n",
       "|Cov Parm   |Estimate         |\n",
       "|:----------|:----------------|\n",
       "|Brand      |2.393767732355   |\n",
       "|Temp       |22.9935426086442 |\n",
       "|Brand*Temp |4.77634650025858 |\n",
       "|Residual   |1.84430644204827 |"
      ]
     },
     "metadata": {},
     "output_type": "display_data"
    }
   ],
   "source": [
    "df_stir <- df_eff %>% filter(Stirred == 'yes')\n",
    "\n",
    "df_aov <- aov(Time ~ Brand * Temp, data = df_stir)\n",
    "\n",
    "me_table <- as_tibble(summary(df_aov)[[1]][,1:3])\n",
    "me_table <- cbind('Source' = c('Brand', 'Temp', 'Brand*Temp', 'Residual'), \n",
    "                  me_table, \n",
    "                  'Error Term' = c(\"MSA\", \"MSB\", \"MSAB\", \"MSE\"))\n",
    "\n",
    "MSA <-  me_table[1, 4]\n",
    "MSB <-  me_table[2, 4]\n",
    "MSAB <- me_table[3, 4]\n",
    "MSE <-  me_table[4, 4]\n",
    "\n",
    "a <- length(levels(df_eff$Brand))\n",
    "b <- length(levels(df_eff$Temp))\n",
    "n <- nrow(df_eff)/(a*b)\n",
    "\n",
    "sigma_ab <- (MSAB - MSE) / n\n",
    "sigma_a <- (MSA - MSAB) / (b * n)\n",
    "sigma_b <- (MSB - MSAB) / (a*n)\n",
    "\n",
    "f_scores <- c(MSA/MSAB,MSB/MSAB,MSAB/MSE, NA)\n",
    "\n",
    "error_dof <- c(rep(tail(me_table$Df, n = 2)[1], 2), tail(me_table$Df, n = 1)[1], NA)\n",
    "\n",
    "me_table['Error Df'] <- error_dof\n",
    "\n",
    "me_table[\"F Score\"] <- f_scores\n",
    "f_test <- round(1 - pf(me_table['F Score'][[1]], \n",
    "                       me_table['Df'][[1]], \n",
    "                       me_table['Error Df'][[1]]),\n",
    "                4)\n",
    "\n",
    "me_table['Pr>F'] <- f_test\n",
    "\n",
    "\n",
    "\n",
    "name_mean <- df_eff %>% filter(Brand == 'name') %>% select(Time) %>% unlist() %>% mean()\n",
    "brand_fe <- df_eff %>% group_by(Brand) %>% summarise('Mean' = mean(Time), 'Effect' = Mean - name_mean)\n",
    "\n",
    "name_mean <- df_eff %>% filter(Temp == '6') %>% select(Time) %>% unlist() %>% mean()\n",
    "temp_fe <- df_eff %>% group_by(Temp) %>% summarise('Mean' = mean(Time), 'Effect' = Mean - name_mean)\n",
    "    \n",
    "\n",
    "\n",
    "knitr::kable(me_table, caption = 'Mixed Effects Models')\n",
    "\n",
    "knitr::kable(brand_fe, caption = 'Model4: Brand is Fixed and Temperature is Random')\n",
    "knitr::kable(cbind(c('Temp', 'Brand*Temp', 'Residual'), \n",
    "                   c(sigma_b, sigma_ab, MSE)), col.names = c('Cov Parm', 'Estimate'))\n",
    "\n",
    "knitr::kable(temp_fe, caption = 'Model5: Brand is Random and Temperature is Fixed')\n",
    "knitr::kable(cbind(c('Brand', 'Brand*Temp', 'Residual'), \n",
    "                   c(sigma_a, sigma_ab, MSE)), col.names = c('Cov Parm', 'Estimate'))\n",
    "\n",
    "knitr::kable(cbind(c('Brand', 'Temp' , 'Brand*Temp', 'Residual'), \n",
    "                   c(sigma_a, sigma_b,sigma_ab, MSE)), col.names = c('Cov Parm', 'Estimate'), \n",
    "             caption = 'Model6: Brand and Temperature are Random')"
   ]
  },
  {
   "cell_type": "code",
   "execution_count": 11,
   "metadata": {},
   "outputs": [
    {
     "data": {
      "text/html": [
       "32.0079632833061"
      ],
      "text/latex": [
       "32.0079632833061"
      ],
      "text/markdown": [
       "32.0079632833061"
      ],
      "text/plain": [
       "[1] 32.00796"
      ]
     },
     "metadata": {},
     "output_type": "display_data"
    }
   ],
   "source": [
    "sum(c(sigma_a, sigma_b,sigma_ab, MSE))"
   ]
  },
  {
   "cell_type": "code",
   "execution_count": 12,
   "metadata": {},
   "outputs": [
    {
     "name": "stderr",
     "output_type": "stream",
     "text": [
      "Loading required package: carData\n",
      "\n",
      "\n",
      "Attaching package: ‘car’\n",
      "\n",
      "\n",
      "The following object is masked from ‘package:dplyr’:\n",
      "\n",
      "    recode\n",
      "\n",
      "\n",
      "The following object is masked from ‘package:purrr’:\n",
      "\n",
      "    some\n",
      "\n",
      "\n"
     ]
    },
    {
     "data": {
      "text/html": [
       "<table class=\"dataframe\">\n",
       "<caption>A anova: 6 × 4</caption>\n",
       "<thead>\n",
       "\t<tr><th></th><th scope=col>Sum Sq</th><th scope=col>Df</th><th scope=col>F value</th><th scope=col>Pr(&gt;F)</th></tr>\n",
       "\t<tr><th></th><th scope=col>&lt;dbl&gt;</th><th scope=col>&lt;dbl&gt;</th><th scope=col>&lt;dbl&gt;</th><th scope=col>&lt;dbl&gt;</th></tr>\n",
       "</thead>\n",
       "<tbody>\n",
       "\t<tr><th scope=row>(Intercept)</th><td>49693.91326</td><td> 1</td><td>7384.919898</td><td>7.765287e-49</td></tr>\n",
       "\t<tr><th scope=row>Temp</th><td> 1654.73655</td><td> 2</td><td> 122.953659</td><td>2.779255e-18</td></tr>\n",
       "\t<tr><th scope=row>Brand</th><td>   97.50550</td><td> 1</td><td>  14.490111</td><td>4.517511e-04</td></tr>\n",
       "\t<tr><th scope=row>Stirred</th><td>   83.05926</td><td> 1</td><td>  12.343282</td><td>1.073633e-03</td></tr>\n",
       "\t<tr><th scope=row>Brand:Stirred</th><td>   20.51004</td><td> 1</td><td>   3.047959</td><td>8.815069e-02</td></tr>\n",
       "\t<tr><th scope=row>Residuals</th><td>  282.62248</td><td>42</td><td>         NA</td><td>          NA</td></tr>\n",
       "</tbody>\n",
       "</table>\n"
      ],
      "text/latex": [
       "A anova: 6 × 4\n",
       "\\begin{tabular}{r|llll}\n",
       "  & Sum Sq & Df & F value & Pr(>F)\\\\\n",
       "  & <dbl> & <dbl> & <dbl> & <dbl>\\\\\n",
       "\\hline\n",
       "\t(Intercept) & 49693.91326 &  1 & 7384.919898 & 7.765287e-49\\\\\n",
       "\tTemp &  1654.73655 &  2 &  122.953659 & 2.779255e-18\\\\\n",
       "\tBrand &    97.50550 &  1 &   14.490111 & 4.517511e-04\\\\\n",
       "\tStirred &    83.05926 &  1 &   12.343282 & 1.073633e-03\\\\\n",
       "\tBrand:Stirred &    20.51004 &  1 &    3.047959 & 8.815069e-02\\\\\n",
       "\tResiduals &   282.62248 & 42 &          NA &           NA\\\\\n",
       "\\end{tabular}\n"
      ],
      "text/markdown": [
       "\n",
       "A anova: 6 × 4\n",
       "\n",
       "| <!--/--> | Sum Sq &lt;dbl&gt; | Df &lt;dbl&gt; | F value &lt;dbl&gt; | Pr(&gt;F) &lt;dbl&gt; |\n",
       "|---|---|---|---|---|\n",
       "| (Intercept) | 49693.91326 |  1 | 7384.919898 | 7.765287e-49 |\n",
       "| Temp |  1654.73655 |  2 |  122.953659 | 2.779255e-18 |\n",
       "| Brand |    97.50550 |  1 |   14.490111 | 4.517511e-04 |\n",
       "| Stirred |    83.05926 |  1 |   12.343282 | 1.073633e-03 |\n",
       "| Brand:Stirred |    20.51004 |  1 |    3.047959 | 8.815069e-02 |\n",
       "| Residuals |   282.62248 | 42 |          NA |           NA |\n",
       "\n"
      ],
      "text/plain": [
       "              Sum Sq      Df F value     Pr(>F)      \n",
       "(Intercept)   49693.91326  1 7384.919898 7.765287e-49\n",
       "Temp           1654.73655  2  122.953659 2.779255e-18\n",
       "Brand            97.50550  1   14.490111 4.517511e-04\n",
       "Stirred          83.05926  1   12.343282 1.073633e-03\n",
       "Brand:Stirred    20.51004  1    3.047959 8.815069e-02\n",
       "Residuals       282.62248 42          NA           NA"
      ]
     },
     "metadata": {},
     "output_type": "display_data"
    }
   ],
   "source": [
    "library(car)\n",
    "Anova(lm(Time ~ Temp + Brand * Stirred, data = df_eff), type = 3)"
   ]
  },
  {
   "cell_type": "code",
   "execution_count": 13,
   "metadata": {},
   "outputs": [
    {
     "data": {
      "text/html": [
       "70.77345869375"
      ],
      "text/latex": [
       "70.77345869375"
      ],
      "text/markdown": [
       "70.77345869375"
      ],
      "text/plain": [
       "[1] 70.77346"
      ]
     },
     "metadata": {},
     "output_type": "display_data"
    },
    {
     "data": {
      "text/html": [
       "50.4205125446922"
      ],
      "text/latex": [
       "50.4205125446922"
      ],
      "text/markdown": [
       "50.4205125446922"
      ],
      "text/plain": [
       "[1] 50.42051"
      ]
     },
     "metadata": {},
     "output_type": "display_data"
    }
   ],
   "source": [
    "mean(df_eff$Time)\n",
    "var(df_eff$Time)"
   ]
  },
  {
   "cell_type": "code",
   "execution_count": 14,
   "metadata": {},
   "outputs": [
    {
     "data": {
      "text/html": [
       "73.4427561758333"
      ],
      "text/latex": [
       "73.4427561758333"
      ],
      "text/markdown": [
       "73.4427561758333"
      ],
      "text/plain": [
       "[1] 73.44276"
      ]
     },
     "metadata": {},
     "output_type": "display_data"
    },
    {
     "data": {
      "text/html": [
       "68.1041612116667"
      ],
      "text/latex": [
       "68.1041612116667"
      ],
      "text/markdown": [
       "68.1041612116667"
      ],
      "text/plain": [
       "[1] 68.10416"
      ]
     },
     "metadata": {},
     "output_type": "display_data"
    }
   ],
   "source": [
    "df_eff %>% filter(Brand == 'name') %>% select(Time) %>% unlist() %>% unname() %>% mean()\n",
    "df_eff %>% filter(Brand == 'store') %>% select(Time) %>% unlist() %>% unname() %>% mean()"
   ]
  },
  {
   "cell_type": "code",
   "execution_count": 15,
   "metadata": {},
   "outputs": [
    {
     "data": {
      "text/html": [
       "<table class=\"dataframe\">\n",
       "<caption>A tibble: 2 × 3</caption>\n",
       "<thead>\n",
       "\t<tr><th scope=col>Brand</th><th scope=col>Mean</th><th scope=col>Var</th></tr>\n",
       "\t<tr><th scope=col>&lt;fct&gt;</th><th scope=col>&lt;dbl&gt;</th><th scope=col>&lt;dbl&gt;</th></tr>\n",
       "</thead>\n",
       "<tbody>\n",
       "\t<tr><td>name </td><td>73.44276</td><td>21.13144</td></tr>\n",
       "\t<tr><td>store</td><td>68.10416</td><td>67.03190</td></tr>\n",
       "</tbody>\n",
       "</table>\n"
      ],
      "text/latex": [
       "A tibble: 2 × 3\n",
       "\\begin{tabular}{lll}\n",
       " Brand & Mean & Var\\\\\n",
       " <fct> & <dbl> & <dbl>\\\\\n",
       "\\hline\n",
       "\t name  & 73.44276 & 21.13144\\\\\n",
       "\t store & 68.10416 & 67.03190\\\\\n",
       "\\end{tabular}\n"
      ],
      "text/markdown": [
       "\n",
       "A tibble: 2 × 3\n",
       "\n",
       "| Brand &lt;fct&gt; | Mean &lt;dbl&gt; | Var &lt;dbl&gt; |\n",
       "|---|---|---|\n",
       "| name  | 73.44276 | 21.13144 |\n",
       "| store | 68.10416 | 67.03190 |\n",
       "\n"
      ],
      "text/plain": [
       "  Brand Mean     Var     \n",
       "1 name  73.44276 21.13144\n",
       "2 store 68.10416 67.03190"
      ]
     },
     "metadata": {},
     "output_type": "display_data"
    },
    {
     "data": {
      "text/html": [
       "<table class=\"dataframe\">\n",
       "<caption>A tibble: 2 × 3</caption>\n",
       "<thead>\n",
       "\t<tr><th scope=col>Stirred</th><th scope=col>Mean</th><th scope=col>Var</th></tr>\n",
       "\t<tr><th scope=col>&lt;fct&gt;</th><th scope=col>&lt;dbl&gt;</th><th scope=col>&lt;dbl&gt;</th></tr>\n",
       "</thead>\n",
       "<tbody>\n",
       "\t<tr><td>yes</td><td>69.56681</td><td>44.63986</td></tr>\n",
       "\t<tr><td>no </td><td>71.98011</td><td>55.35476</td></tr>\n",
       "</tbody>\n",
       "</table>\n"
      ],
      "text/latex": [
       "A tibble: 2 × 3\n",
       "\\begin{tabular}{lll}\n",
       " Stirred & Mean & Var\\\\\n",
       " <fct> & <dbl> & <dbl>\\\\\n",
       "\\hline\n",
       "\t yes & 69.56681 & 44.63986\\\\\n",
       "\t no  & 71.98011 & 55.35476\\\\\n",
       "\\end{tabular}\n"
      ],
      "text/markdown": [
       "\n",
       "A tibble: 2 × 3\n",
       "\n",
       "| Stirred &lt;fct&gt; | Mean &lt;dbl&gt; | Var &lt;dbl&gt; |\n",
       "|---|---|---|\n",
       "| yes | 69.56681 | 44.63986 |\n",
       "| no  | 71.98011 | 55.35476 |\n",
       "\n"
      ],
      "text/plain": [
       "  Stirred Mean     Var     \n",
       "1 yes     69.56681 44.63986\n",
       "2 no      71.98011 55.35476"
      ]
     },
     "metadata": {},
     "output_type": "display_data"
    },
    {
     "data": {
      "text/html": [
       "<table class=\"dataframe\">\n",
       "<caption>A tibble: 3 × 3</caption>\n",
       "<thead>\n",
       "\t<tr><th scope=col>Temp</th><th scope=col>Mean</th><th scope=col>Var</th></tr>\n",
       "\t<tr><th scope=col>&lt;fct&gt;</th><th scope=col>&lt;dbl&gt;</th><th scope=col>&lt;dbl&gt;</th></tr>\n",
       "</thead>\n",
       "<tbody>\n",
       "\t<tr><td>6 </td><td>78.00561</td><td> 2.467426</td></tr>\n",
       "\t<tr><td>23</td><td>70.69044</td><td>19.204515</td></tr>\n",
       "\t<tr><td>40</td><td>63.62433</td><td>25.996561</td></tr>\n",
       "</tbody>\n",
       "</table>\n"
      ],
      "text/latex": [
       "A tibble: 3 × 3\n",
       "\\begin{tabular}{lll}\n",
       " Temp & Mean & Var\\\\\n",
       " <fct> & <dbl> & <dbl>\\\\\n",
       "\\hline\n",
       "\t 6  & 78.00561 &  2.467426\\\\\n",
       "\t 23 & 70.69044 & 19.204515\\\\\n",
       "\t 40 & 63.62433 & 25.996561\\\\\n",
       "\\end{tabular}\n"
      ],
      "text/markdown": [
       "\n",
       "A tibble: 3 × 3\n",
       "\n",
       "| Temp &lt;fct&gt; | Mean &lt;dbl&gt; | Var &lt;dbl&gt; |\n",
       "|---|---|---|\n",
       "| 6  | 78.00561 |  2.467426 |\n",
       "| 23 | 70.69044 | 19.204515 |\n",
       "| 40 | 63.62433 | 25.996561 |\n",
       "\n"
      ],
      "text/plain": [
       "  Temp Mean     Var      \n",
       "1 6    78.00561  2.467426\n",
       "2 23   70.69044 19.204515\n",
       "3 40   63.62433 25.996561"
      ]
     },
     "metadata": {},
     "output_type": "display_data"
    }
   ],
   "source": [
    "df_eff %>% group_by(Brand) %>% summarise('Mean' = mean(Time), 'Var' = var(Time))\n",
    "df_eff %>% group_by(Stirred) %>% summarise('Mean' = mean(Time), 'Var' = var(Time))\n",
    "df_eff %>% group_by(Temp) %>% summarise('Mean' = mean(Time), 'Var' = var(Time))"
   ]
  },
  {
   "cell_type": "code",
   "execution_count": 16,
   "metadata": {},
   "outputs": [
    {
     "name": "stderr",
     "output_type": "stream",
     "text": [
      "\u001b[1m\u001b[22m`summarise()` has grouped output by 'Brand'. You can override using the `.groups` argument.\n"
     ]
    },
    {
     "data": {
      "text/html": [
       "<table class=\"dataframe\">\n",
       "<caption>A data.frame: 4 × 4</caption>\n",
       "<thead>\n",
       "\t<tr><th scope=col>Temp</th><th scope=col>name</th><th scope=col>store</th><th scope=col>TempMean</th></tr>\n",
       "\t<tr><th scope=col>&lt;chr&gt;</th><th scope=col>&lt;dbl&gt;</th><th scope=col>&lt;dbl&gt;</th><th scope=col>&lt;dbl&gt;</th></tr>\n",
       "</thead>\n",
       "<tbody>\n",
       "\t<tr><td>6        </td><td>78.99061</td><td>79.49240</td><td>79.24151</td></tr>\n",
       "\t<tr><td>23       </td><td>76.36351</td><td>67.51552</td><td>71.93952</td></tr>\n",
       "\t<tr><td>40       </td><td>70.55511</td><td>58.96347</td><td>64.75929</td></tr>\n",
       "\t<tr><td>BrandMean</td><td>75.30308</td><td>68.65713</td><td>71.98011</td></tr>\n",
       "</tbody>\n",
       "</table>\n"
      ],
      "text/latex": [
       "A data.frame: 4 × 4\n",
       "\\begin{tabular}{llll}\n",
       " Temp & name & store & TempMean\\\\\n",
       " <chr> & <dbl> & <dbl> & <dbl>\\\\\n",
       "\\hline\n",
       "\t 6         & 78.99061 & 79.49240 & 79.24151\\\\\n",
       "\t 23        & 76.36351 & 67.51552 & 71.93952\\\\\n",
       "\t 40        & 70.55511 & 58.96347 & 64.75929\\\\\n",
       "\t BrandMean & 75.30308 & 68.65713 & 71.98011\\\\\n",
       "\\end{tabular}\n"
      ],
      "text/markdown": [
       "\n",
       "A data.frame: 4 × 4\n",
       "\n",
       "| Temp &lt;chr&gt; | name &lt;dbl&gt; | store &lt;dbl&gt; | TempMean &lt;dbl&gt; |\n",
       "|---|---|---|---|\n",
       "| 6         | 78.99061 | 79.49240 | 79.24151 |\n",
       "| 23        | 76.36351 | 67.51552 | 71.93952 |\n",
       "| 40        | 70.55511 | 58.96347 | 64.75929 |\n",
       "| BrandMean | 75.30308 | 68.65713 | 71.98011 |\n",
       "\n"
      ],
      "text/plain": [
       "  Temp      name     store    TempMean\n",
       "1 6         78.99061 79.49240 79.24151\n",
       "2 23        76.36351 67.51552 71.93952\n",
       "3 40        70.55511 58.96347 64.75929\n",
       "4 BrandMean 75.30308 68.65713 71.98011"
      ]
     },
     "metadata": {},
     "output_type": "display_data"
    }
   ],
   "source": [
    "means_nostir <- df_eff %>% filter(Stirred == \"no\") %>% group_by(Brand, Temp) %>% summarise('Mean' = mean(Time))\n",
    "means_nostir <- means_nostir %>% pivot_wider(names_from = Brand, values_from = Mean)\n",
    "means_nostir$TempMean <- rowMeans(means_nostir[,2:3])\n",
    "means_nostir <- cbind('Temp' = c('6', '23', '40', 'BrandMean'),rbind(means_nostir[,2:4], colMeans(means_nostir[,2:4])))\n",
    "means_nostir"
   ]
  },
  {
   "cell_type": "code",
   "execution_count": 17,
   "metadata": {},
   "outputs": [
    {
     "name": "stderr",
     "output_type": "stream",
     "text": [
      "\u001b[1m\u001b[22m`summarise()` has grouped output by 'Brand'. You can override using the `.groups` argument.\n"
     ]
    },
    {
     "data": {
      "text/html": [
       "<table class=\"dataframe\">\n",
       "<caption>A data.frame: 4 × 4</caption>\n",
       "<thead>\n",
       "\t<tr><th scope=col>Temp</th><th scope=col>name</th><th scope=col>store</th><th scope=col>TempMean</th></tr>\n",
       "\t<tr><th scope=col>&lt;chr&gt;</th><th scope=col>&lt;dbl&gt;</th><th scope=col>&lt;dbl&gt;</th><th scope=col>&lt;dbl&gt;</th></tr>\n",
       "</thead>\n",
       "<tbody>\n",
       "\t<tr><td>6        </td><td>76.20241</td><td>77.33703</td><td>76.76972</td></tr>\n",
       "\t<tr><td>23       </td><td>72.69145</td><td>66.19126</td><td>69.44135</td></tr>\n",
       "\t<tr><td>40       </td><td>65.85343</td><td>59.12529</td><td>62.48936</td></tr>\n",
       "\t<tr><td>BrandMean</td><td>71.58243</td><td>67.55119</td><td>69.56681</td></tr>\n",
       "</tbody>\n",
       "</table>\n"
      ],
      "text/latex": [
       "A data.frame: 4 × 4\n",
       "\\begin{tabular}{llll}\n",
       " Temp & name & store & TempMean\\\\\n",
       " <chr> & <dbl> & <dbl> & <dbl>\\\\\n",
       "\\hline\n",
       "\t 6         & 76.20241 & 77.33703 & 76.76972\\\\\n",
       "\t 23        & 72.69145 & 66.19126 & 69.44135\\\\\n",
       "\t 40        & 65.85343 & 59.12529 & 62.48936\\\\\n",
       "\t BrandMean & 71.58243 & 67.55119 & 69.56681\\\\\n",
       "\\end{tabular}\n"
      ],
      "text/markdown": [
       "\n",
       "A data.frame: 4 × 4\n",
       "\n",
       "| Temp &lt;chr&gt; | name &lt;dbl&gt; | store &lt;dbl&gt; | TempMean &lt;dbl&gt; |\n",
       "|---|---|---|---|\n",
       "| 6         | 76.20241 | 77.33703 | 76.76972 |\n",
       "| 23        | 72.69145 | 66.19126 | 69.44135 |\n",
       "| 40        | 65.85343 | 59.12529 | 62.48936 |\n",
       "| BrandMean | 71.58243 | 67.55119 | 69.56681 |\n",
       "\n"
      ],
      "text/plain": [
       "  Temp      name     store    TempMean\n",
       "1 6         76.20241 77.33703 76.76972\n",
       "2 23        72.69145 66.19126 69.44135\n",
       "3 40        65.85343 59.12529 62.48936\n",
       "4 BrandMean 71.58243 67.55119 69.56681"
      ]
     },
     "metadata": {},
     "output_type": "display_data"
    }
   ],
   "source": [
    "means_stir <- df_eff %>% filter(Stirred == \"yes\") %>% group_by(Brand, Temp) %>% summarise('Mean' = mean(Time))\n",
    "means_stir <- means_stir %>% pivot_wider(names_from = Brand, values_from = Mean)\n",
    "means_stir$TempMean <- rowMeans(means_stir[,2:3])\n",
    "means_stir <- cbind('Temp' = c('6', '23', '40', 'BrandMean'),rbind(means_stir[,2:4], colMeans(means_stir[,2:4])))\n",
    "means_stir"
   ]
  },
  {
   "cell_type": "code",
   "execution_count": 18,
   "metadata": {},
   "outputs": [
    {
     "name": "stderr",
     "output_type": "stream",
     "text": [
      "\u001b[1m\u001b[22m`summarise()` has grouped output by 'Brand'. You can override using the `.groups` argument.\n"
     ]
    },
    {
     "data": {
      "text/plain": [
       "\n",
       "\n",
       "|Temp      |     name|    store| TempMean|\n",
       "|:---------|--------:|--------:|--------:|\n",
       "|6         | 77.59651| 78.41471| 78.00561|\n",
       "|23        | 74.52748| 66.85339| 70.69044|\n",
       "|40        | 68.20427| 59.04438| 63.62433|\n",
       "|BrandMean | 73.44276| 68.10416| 70.77346|"
      ]
     },
     "metadata": {},
     "output_type": "display_data"
    }
   ],
   "source": [
    "means_table <- df_eff %>% group_by(Brand, Temp) %>% summarise('Mean' = mean(Time))\n",
    "means_table <- means_table %>% pivot_wider(names_from = Brand, values_from = Mean)\n",
    "means_table$TempMean <- rowMeans(means_table[,2:3])\n",
    "means_table <- cbind('Temp' = c('6', '23', '40', 'BrandMean'),rbind(means_table[,2:4], colMeans(means_table[,2:4])))\n",
    "knitr::kable(means_table)"
   ]
  },
  {
   "cell_type": "code",
   "execution_count": 19,
   "metadata": {},
   "outputs": [
    {
     "name": "stderr",
     "output_type": "stream",
     "text": [
      "Warning message:\n",
      "“The `x` argument of `as_tibble.matrix()` must have unique column names if `.name_repair` is omitted as of tibble 2.0.0.\n",
      "Using compatibility `.name_repair`.\n",
      "\u001b[90mThis warning is displayed once every 8 hours.\u001b[39m\n",
      "\u001b[90mCall `lifecycle::last_lifecycle_warnings()` to see where this warning was generated.\u001b[39m”\n"
     ]
    },
    {
     "data": {
      "text/html": [
       "<table class=\"dataframe\">\n",
       "<caption>A tibble: 4 × 3</caption>\n",
       "<thead>\n",
       "\t<tr><th scope=col>Cov Parm</th><th scope=col>Estimate</th><th scope=col>Portion</th></tr>\n",
       "\t<tr><th scope=col>&lt;chr&gt;</th><th scope=col>&lt;dbl&gt;</th><th scope=col>&lt;dbl&gt;</th></tr>\n",
       "</thead>\n",
       "<tbody>\n",
       "\t<tr><td>Brand     </td><td> 2.3938</td><td>0.075</td></tr>\n",
       "\t<tr><td>Temp      </td><td>22.9935</td><td>0.718</td></tr>\n",
       "\t<tr><td>Brand*Temp</td><td> 4.7763</td><td>0.149</td></tr>\n",
       "\t<tr><td>Residual  </td><td> 1.8443</td><td>0.058</td></tr>\n",
       "</tbody>\n",
       "</table>\n"
      ],
      "text/latex": [
       "A tibble: 4 × 3\n",
       "\\begin{tabular}{lll}\n",
       " Cov Parm & Estimate & Portion\\\\\n",
       " <chr> & <dbl> & <dbl>\\\\\n",
       "\\hline\n",
       "\t Brand      &  2.3938 & 0.075\\\\\n",
       "\t Temp       & 22.9935 & 0.718\\\\\n",
       "\t Brand*Temp &  4.7763 & 0.149\\\\\n",
       "\t Residual   &  1.8443 & 0.058\\\\\n",
       "\\end{tabular}\n"
      ],
      "text/markdown": [
       "\n",
       "A tibble: 4 × 3\n",
       "\n",
       "| Cov Parm &lt;chr&gt; | Estimate &lt;dbl&gt; | Portion &lt;dbl&gt; |\n",
       "|---|---|---|\n",
       "| Brand      |  2.3938 | 0.075 |\n",
       "| Temp       | 22.9935 | 0.718 |\n",
       "| Brand*Temp |  4.7763 | 0.149 |\n",
       "| Residual   |  1.8443 | 0.058 |\n",
       "\n"
      ],
      "text/plain": [
       "  Cov Parm   Estimate Portion\n",
       "1 Brand       2.3938  0.075  \n",
       "2 Temp       22.9935  0.718  \n",
       "3 Brand*Temp  4.7763  0.149  \n",
       "4 Residual    1.8443  0.058  "
      ]
     },
     "metadata": {},
     "output_type": "display_data"
    }
   ],
   "source": [
    "# Random effect Analysis\n",
    "re_table <- as_tibble(cbind(c('Brand', 'Temp' , 'Brand*Temp', 'Residual'), round(c(sigma_a, sigma_b,sigma_ab, MSE), 4))) \n",
    "colnames(re_table) <- c('Cov Parm', 'Estimate')\n",
    "re_table$Estimate <- as.numeric(re_table$Estimate)\n",
    "re_table$Portion <- round(as.numeric(re_table$Estimate) / sum(as.numeric(re_table$Estimate)),3)\n",
    "re_table"
   ]
  },
  {
   "cell_type": "code",
   "execution_count": 20,
   "metadata": {},
   "outputs": [],
   "source": [
    "re_table$Estimate <- as.numeric(re_table$Estimate)\n",
    "re_table$Percent <- round(as.numeric(re_table$Estimate) / sum(as.numeric(re_table$Estimate)),3)"
   ]
  },
  {
   "cell_type": "code",
   "execution_count": 21,
   "metadata": {},
   "outputs": [
    {
     "data": {
      "text/html": [
       "<table class=\"dataframe\">\n",
       "<caption>A tibble: 4 × 4</caption>\n",
       "<thead>\n",
       "\t<tr><th scope=col>Cov Parm</th><th scope=col>Estimate</th><th scope=col>Portion</th><th scope=col>Percent</th></tr>\n",
       "\t<tr><th scope=col>&lt;chr&gt;</th><th scope=col>&lt;dbl&gt;</th><th scope=col>&lt;dbl&gt;</th><th scope=col>&lt;dbl&gt;</th></tr>\n",
       "</thead>\n",
       "<tbody>\n",
       "\t<tr><td>Brand     </td><td> 2.3938</td><td>0.075</td><td>0.075</td></tr>\n",
       "\t<tr><td>Temp      </td><td>22.9935</td><td>0.718</td><td>0.718</td></tr>\n",
       "\t<tr><td>Brand*Temp</td><td> 4.7763</td><td>0.149</td><td>0.149</td></tr>\n",
       "\t<tr><td>Residual  </td><td> 1.8443</td><td>0.058</td><td>0.058</td></tr>\n",
       "</tbody>\n",
       "</table>\n"
      ],
      "text/latex": [
       "A tibble: 4 × 4\n",
       "\\begin{tabular}{llll}\n",
       " Cov Parm & Estimate & Portion & Percent\\\\\n",
       " <chr> & <dbl> & <dbl> & <dbl>\\\\\n",
       "\\hline\n",
       "\t Brand      &  2.3938 & 0.075 & 0.075\\\\\n",
       "\t Temp       & 22.9935 & 0.718 & 0.718\\\\\n",
       "\t Brand*Temp &  4.7763 & 0.149 & 0.149\\\\\n",
       "\t Residual   &  1.8443 & 0.058 & 0.058\\\\\n",
       "\\end{tabular}\n"
      ],
      "text/markdown": [
       "\n",
       "A tibble: 4 × 4\n",
       "\n",
       "| Cov Parm &lt;chr&gt; | Estimate &lt;dbl&gt; | Portion &lt;dbl&gt; | Percent &lt;dbl&gt; |\n",
       "|---|---|---|---|\n",
       "| Brand      |  2.3938 | 0.075 | 0.075 |\n",
       "| Temp       | 22.9935 | 0.718 | 0.718 |\n",
       "| Brand*Temp |  4.7763 | 0.149 | 0.149 |\n",
       "| Residual   |  1.8443 | 0.058 | 0.058 |\n",
       "\n"
      ],
      "text/plain": [
       "  Cov Parm   Estimate Portion Percent\n",
       "1 Brand       2.3938  0.075   0.075  \n",
       "2 Temp       22.9935  0.718   0.718  \n",
       "3 Brand*Temp  4.7763  0.149   0.149  \n",
       "4 Residual    1.8443  0.058   0.058  "
      ]
     },
     "metadata": {},
     "output_type": "display_data"
    }
   ],
   "source": [
    "re_table"
   ]
  },
  {
   "cell_type": "code",
   "execution_count": 22,
   "metadata": {},
   "outputs": [
    {
     "data": {
      "text/html": [
       "4.68474802285316"
      ],
      "text/latex": [
       "4.68474802285316"
      ],
      "text/markdown": [
       "4.68474802285316"
      ],
      "text/plain": [
       "[1] 4.684748"
      ]
     },
     "metadata": {},
     "output_type": "display_data"
    }
   ],
   "source": [
    "se_mu"
   ]
  },
  {
   "cell_type": "code",
   "execution_count": 23,
   "metadata": {},
   "outputs": [
    {
     "data": {
      "text/html": [
       "<table class=\"dataframe\">\n",
       "<caption>A data.frame: 4 × 5</caption>\n",
       "<thead>\n",
       "\t<tr><th scope=col>Temp</th><th scope=col>name</th><th scope=col>store</th><th scope=col>TempMean</th><th scope=col>Diff</th></tr>\n",
       "\t<tr><th scope=col>&lt;chr&gt;</th><th scope=col>&lt;dbl&gt;</th><th scope=col>&lt;dbl&gt;</th><th scope=col>&lt;dbl&gt;</th><th scope=col>&lt;dbl&gt;</th></tr>\n",
       "</thead>\n",
       "<tbody>\n",
       "\t<tr><td>6        </td><td>77.59651</td><td>78.41471</td><td>78.00561</td><td>-0.8181992</td></tr>\n",
       "\t<tr><td>23       </td><td>74.52748</td><td>66.85339</td><td>70.69044</td><td> 7.6740900</td></tr>\n",
       "\t<tr><td>40       </td><td>68.20427</td><td>59.04438</td><td>63.62433</td><td> 9.1598941</td></tr>\n",
       "\t<tr><td>BrandMean</td><td>73.44276</td><td>68.10416</td><td>70.77346</td><td> 5.3385950</td></tr>\n",
       "</tbody>\n",
       "</table>\n"
      ],
      "text/latex": [
       "A data.frame: 4 × 5\n",
       "\\begin{tabular}{lllll}\n",
       " Temp & name & store & TempMean & Diff\\\\\n",
       " <chr> & <dbl> & <dbl> & <dbl> & <dbl>\\\\\n",
       "\\hline\n",
       "\t 6         & 77.59651 & 78.41471 & 78.00561 & -0.8181992\\\\\n",
       "\t 23        & 74.52748 & 66.85339 & 70.69044 &  7.6740900\\\\\n",
       "\t 40        & 68.20427 & 59.04438 & 63.62433 &  9.1598941\\\\\n",
       "\t BrandMean & 73.44276 & 68.10416 & 70.77346 &  5.3385950\\\\\n",
       "\\end{tabular}\n"
      ],
      "text/markdown": [
       "\n",
       "A data.frame: 4 × 5\n",
       "\n",
       "| Temp &lt;chr&gt; | name &lt;dbl&gt; | store &lt;dbl&gt; | TempMean &lt;dbl&gt; | Diff &lt;dbl&gt; |\n",
       "|---|---|---|---|---|\n",
       "| 6         | 77.59651 | 78.41471 | 78.00561 | -0.8181992 |\n",
       "| 23        | 74.52748 | 66.85339 | 70.69044 |  7.6740900 |\n",
       "| 40        | 68.20427 | 59.04438 | 63.62433 |  9.1598941 |\n",
       "| BrandMean | 73.44276 | 68.10416 | 70.77346 |  5.3385950 |\n",
       "\n"
      ],
      "text/plain": [
       "  Temp      name     store    TempMean Diff      \n",
       "1 6         77.59651 78.41471 78.00561 -0.8181992\n",
       "2 23        74.52748 66.85339 70.69044  7.6740900\n",
       "3 40        68.20427 59.04438 63.62433  9.1598941\n",
       "4 BrandMean 73.44276 68.10416 70.77346  5.3385950"
      ]
     },
     "metadata": {},
     "output_type": "display_data"
    }
   ],
   "source": [
    "means_table %>% mutate('Diff' = name - store)"
   ]
  },
  {
   "cell_type": "code",
   "execution_count": 24,
   "metadata": {},
   "outputs": [
    {
     "data": {
      "image/png": "[encoded data removed]",
      "text/plain": [
       "plot without title"
      ]
     },
     "metadata": {
      "image/png": {
       "height": 312.5,
       "width": 812.5
      }
     },
     "output_type": "display_data"
    }
   ],
   "source": [
    "options(repr.plot.width = 6.5, repr.plot.height = 2.5, repr.plot.res = 250)\n",
    "\n",
    "aov_eff <- aov(lm_eff <- lm(Time ~ Brand * Temp * Stirred, data = df_eff))\n",
    "\n",
    "cooksD_values <- cooks.distance(lm_eff)\n",
    " \n",
    "CD_plot <- ggplot() + \n",
    "  geom_col(aes(y = cooksD_values, x = 1:length(cooksD_values)), \n",
    "  width = 0.025, col = 'red')  + \n",
    "  geom_point(aes(y = cooksD_values, x = 1:length(cooksD_values)), shape = 20) + \n",
    "  xlab('Sample Points') + ylab(\"Cook's Distance\") + \n",
    "  geom_hline(yintercept = 0.25, lty = 2) + \n",
    "  labs(title = \"Cook's Distance\") + \n",
    "  theme(\n",
    "      plot.title = element_text(size = 10, face = \"bold\"),\n",
    "      axis.text = element_text(size = 7),\n",
    "      axis.title = element_text(size = 8)\n",
    ")\n",
    "\n",
    "#CD_plot <- ols_plot_cooksd_chart(lm_eff)\n",
    "qqplot1 <- ggplot(df_eff, aes(sample = Time)) + \n",
    "  stat_qq(shape = 20) + \n",
    "  stat_qq_line(linetype = \"dashed\", col = 'red') + \n",
    "  labs(x = \"Theoretical Quantiles\", \n",
    "       y = \"Sample Quantiles\", \n",
    "       title = \"Normal Q-Q Plot\") + \n",
    "  theme(\n",
    "      plot.title = element_text(size = 10, face = \"bold\"),\n",
    "      axis.text = element_text(size = 7),\n",
    "      axis.title = element_text(size = 8)\n",
    ")\n",
    "\n",
    "plot_grid(CD_plot, qqplot1)"
   ]
  },
  {
   "cell_type": "code",
   "execution_count": 34,
   "metadata": {},
   "outputs": [
    {
     "data": {
      "text/plain": [
       "\n",
       "\n",
       "|Brand |     Mean|      Max|      Min|   Spread|\n",
       "|:-----|--------:|--------:|--------:|--------:|\n",
       "|name  | 73.44276| 79.72130| 64.45156| 15.26973|\n",
       "|store | 68.10416| 80.92176| 58.24407| 22.67769|"
      ]
     },
     "metadata": {},
     "output_type": "display_data"
    },
    {
     "data": {
      "text/plain": [
       "\n",
       "\n",
       "|Temp |     Mean|      Max|      Min|    Spread|\n",
       "|:----|--------:|--------:|--------:|---------:|\n",
       "|6    | 78.00561| 80.92176| 75.80973|  5.112037|\n",
       "|23   | 70.69044| 76.83265| 65.92809| 10.904559|\n",
       "|40   | 63.62433| 71.20207| 58.24407| 12.958001|"
      ]
     },
     "metadata": {},
     "output_type": "display_data"
    },
    {
     "name": "stderr",
     "output_type": "stream",
     "text": [
      "\u001b[1m\u001b[22m`summarise()` has grouped output by 'Brand'. You can override using the `.groups` argument.\n"
     ]
    },
    {
     "data": {
      "text/plain": [
       "\n",
       "\n",
       "|Brand |Temp |     Mean|      Max|      Min|   Spread|\n",
       "|:-----|:----|--------:|--------:|--------:|--------:|\n",
       "|name  |6    | 77.59651| 79.72130| 75.80973| 3.911567|\n",
       "|name  |23   | 74.52748| 76.83265| 69.08937| 7.743272|\n",
       "|name  |40   | 68.20427| 71.20207| 64.45156| 6.750513|\n",
       "|store |6    | 78.41471| 80.92176| 76.24402| 4.677741|\n",
       "|store |23   | 66.85339| 67.93138| 65.92809| 2.003292|\n",
       "|store |40   | 59.04438| 59.82388| 58.24407| 1.579810|"
      ]
     },
     "metadata": {},
     "output_type": "display_data"
    },
    {
     "name": "stderr",
     "output_type": "stream",
     "text": [
      "\u001b[1m\u001b[22m`summarise()` has grouped output by 'Brand'. You can override using the `.groups` argument.\n"
     ]
    },
    {
     "data": {
      "text/plain": [
       "\n",
       "\n",
       "|Brand |Stirred |     Mean|      Max|      Min|    Spread|\n",
       "|:-----|:-------|--------:|--------:|--------:|---------:|\n",
       "|name  |yes     | 71.58243| 77.21547| 64.45156| 12.763904|\n",
       "|name  |no      | 75.30308| 79.72130| 69.99943|  9.721863|\n",
       "|store |yes     | 67.55119| 77.89089| 58.24407| 19.646821|\n",
       "|store |no      | 68.65713| 80.92176| 58.53920| 22.382569|"
      ]
     },
     "metadata": {},
     "output_type": "display_data"
    },
    {
     "name": "stderr",
     "output_type": "stream",
     "text": [
      "\u001b[1m\u001b[22m`summarise()` has grouped output by 'Temp'. You can override using the `.groups` argument.\n"
     ]
    },
    {
     "data": {
      "text/plain": [
       "\n",
       "\n",
       "|Temp |Stirred |     Mean|      Max|      Min|    Spread|\n",
       "|:----|:-------|--------:|--------:|--------:|---------:|\n",
       "|6    |yes     | 76.76972| 77.89089| 75.80973|  2.081166|\n",
       "|6    |no      | 79.24151| 80.92176| 77.78345|  3.138317|\n",
       "|23   |yes     | 69.44135| 75.37855| 65.92809|  9.450466|\n",
       "|23   |no      | 71.93952| 76.83265| 67.08353|  9.749120|\n",
       "|40   |yes     | 62.48936| 68.08492| 58.24407|  9.840843|\n",
       "|40   |no      | 64.75929| 71.20207| 58.53920| 12.662879|"
      ]
     },
     "metadata": {},
     "output_type": "display_data"
    }
   ],
   "source": [
    "df_eff %>% group_by(Brand) %>% summarise('Mean' = mean(Time), 'Max' = max(Time), 'Min' = min(Time), 'Spread' = Max - Min) %>% kable()\n",
    "df_eff %>% group_by(Temp) %>% summarise('Mean' = mean(Time), 'Max' = max(Time), 'Min' = min(Time), 'Spread' = Max - Min) %>% kable()\n",
    "df_eff %>% group_by(Brand, Temp) %>% summarise('Mean' = mean(Time), 'Max' = max(Time), 'Min' = min(Time), 'Spread' = Max - Min) %>% kable()\n",
    "df_eff %>% group_by(Brand, Stirred) %>% summarise('Mean' = mean(Time), 'Max' = max(Time), 'Min' = min(Time), 'Spread' = Max - Min) %>% kable()\n",
    "df_eff %>% group_by(Temp, Stirred) %>% summarise('Mean' = mean(Time), 'Max' = max(Time), 'Min' = min(Time), 'Spread' = Max - Min) %>% kable()"
   ]
  },
  {
   "cell_type": "code",
   "execution_count": null,
   "metadata": {},
   "outputs": [],
   "source": []
  }
 ],
 "metadata": {
  "kernelspec": {
   "display_name": "R",
   "language": "R",
   "name": "ir"
  },
  "language_info": {
   "codemirror_mode": "r",
   "file_extension": ".r",
   "mimetype": "text/x-r-source",
   "name": "R",
   "pygments_lexer": "r",
   "version": "4.2.2"
  }
 },
 "nbformat": 4,
 "nbformat_minor": 4
}
