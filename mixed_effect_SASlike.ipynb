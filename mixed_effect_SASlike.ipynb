{
 "cells": [
  {
   "cell_type": "code",
   "execution_count": 1,
   "metadata": {},
   "outputs": [
    {
     "name": "stderr",
     "output_type": "stream",
     "text": [
      "── \u001b[1mAttaching packages\u001b[22m ────────────────────────────────────────────────────────────────────────────────────────────────────────────────────────────────────────────────────────────────────────── tidyverse 1.3.1 ──\n",
      "\n",
      "\u001b[32m✔\u001b[39m \u001b[34mggplot2\u001b[39m 3.3.6     \u001b[32m✔\u001b[39m \u001b[34mpurrr  \u001b[39m 0.3.4\n",
      "\u001b[32m✔\u001b[39m \u001b[34mtibble \u001b[39m 3.1.7     \u001b[32m✔\u001b[39m \u001b[34mdplyr  \u001b[39m 1.0.9\n",
      "\u001b[32m✔\u001b[39m \u001b[34mtidyr  \u001b[39m 1.2.0     \u001b[32m✔\u001b[39m \u001b[34mstringr\u001b[39m 1.4.0\n",
      "\u001b[32m✔\u001b[39m \u001b[34mreadr  \u001b[39m 2.1.2     \u001b[32m✔\u001b[39m \u001b[34mforcats\u001b[39m 0.5.1\n",
      "\n",
      "── \u001b[1mConflicts\u001b[22m ───────────────────────────────────────────────────────────────────────────────────────────────────────────────────────────────────────────────────────────────────────────── tidyverse_conflicts() ──\n",
      "\u001b[31m✖\u001b[39m \u001b[34mdplyr\u001b[39m::\u001b[32mfilter()\u001b[39m masks \u001b[34mstats\u001b[39m::filter()\n",
      "\u001b[31m✖\u001b[39m \u001b[34mdplyr\u001b[39m::\u001b[32mlag()\u001b[39m    masks \u001b[34mstats\u001b[39m::lag()\n",
      "\n"
     ]
    }
   ],
   "source": [
    "library(tidyverse)"
   ]
  },
  {
   "cell_type": "code",
   "execution_count": 63,
   "metadata": {},
   "outputs": [],
   "source": [
    "df_eff <- read_csv('effervescence.csv', col_types = 'fffnn')"
   ]
  },
  {
   "cell_type": "code",
   "execution_count": 64,
   "metadata": {},
   "outputs": [
    {
     "data": {
      "text/html": [
       "<table class=\"dataframe\">\n",
       "<caption>A tibble: 6 × 5</caption>\n",
       "<thead>\n",
       "\t<tr><th scope=col>Brand</th><th scope=col>Temp</th><th scope=col>Stirred</th><th scope=col>Order</th><th scope=col>Time</th></tr>\n",
       "\t<tr><th scope=col>&lt;fct&gt;</th><th scope=col>&lt;fct&gt;</th><th scope=col>&lt;fct&gt;</th><th scope=col>&lt;dbl&gt;</th><th scope=col>&lt;dbl&gt;</th></tr>\n",
       "</thead>\n",
       "<tbody>\n",
       "\t<tr><td>name </td><td>6 </td><td>yes</td><td> 8</td><td>77.21547</td></tr>\n",
       "\t<tr><td>name </td><td>23</td><td>yes</td><td> 3</td><td>75.37855</td></tr>\n",
       "\t<tr><td>name </td><td>40</td><td>yes</td><td> 7</td><td>68.08492</td></tr>\n",
       "\t<tr><td>store</td><td>6 </td><td>yes</td><td> 1</td><td>77.87371</td></tr>\n",
       "\t<tr><td>store</td><td>23</td><td>yes</td><td> 2</td><td>66.38436</td></tr>\n",
       "\t<tr><td>store</td><td>40</td><td>yes</td><td>18</td><td>59.82388</td></tr>\n",
       "</tbody>\n",
       "</table>\n"
      ],
      "text/latex": [
       "A tibble: 6 × 5\n",
       "\\begin{tabular}{lllll}\n",
       " Brand & Temp & Stirred & Order & Time\\\\\n",
       " <fct> & <fct> & <fct> & <dbl> & <dbl>\\\\\n",
       "\\hline\n",
       "\t name  & 6  & yes &  8 & 77.21547\\\\\n",
       "\t name  & 23 & yes &  3 & 75.37855\\\\\n",
       "\t name  & 40 & yes &  7 & 68.08492\\\\\n",
       "\t store & 6  & yes &  1 & 77.87371\\\\\n",
       "\t store & 23 & yes &  2 & 66.38436\\\\\n",
       "\t store & 40 & yes & 18 & 59.82388\\\\\n",
       "\\end{tabular}\n"
      ],
      "text/markdown": [
       "\n",
       "A tibble: 6 × 5\n",
       "\n",
       "| Brand &lt;fct&gt; | Temp &lt;fct&gt; | Stirred &lt;fct&gt; | Order &lt;dbl&gt; | Time &lt;dbl&gt; |\n",
       "|---|---|---|---|---|\n",
       "| name  | 6  | yes |  8 | 77.21547 |\n",
       "| name  | 23 | yes |  3 | 75.37855 |\n",
       "| name  | 40 | yes |  7 | 68.08492 |\n",
       "| store | 6  | yes |  1 | 77.87371 |\n",
       "| store | 23 | yes |  2 | 66.38436 |\n",
       "| store | 40 | yes | 18 | 59.82388 |\n",
       "\n"
      ],
      "text/plain": [
       "  Brand Temp Stirred Order Time    \n",
       "1 name  6    yes      8    77.21547\n",
       "2 name  23   yes      3    75.37855\n",
       "3 name  40   yes      7    68.08492\n",
       "4 store 6    yes      1    77.87371\n",
       "5 store 23   yes      2    66.38436\n",
       "6 store 40   yes     18    59.82388"
      ]
     },
     "metadata": {},
     "output_type": "display_data"
    }
   ],
   "source": [
    "df_eff %>% head()"
   ]
  },
  {
   "cell_type": "code",
   "execution_count": 146,
   "metadata": {},
   "outputs": [],
   "source": [
    "lm_eff <- lm(Time ~ Brand * Temp, data = df_eff)\n",
    "aov_eff <- aov(lm_eff)\n",
    "anova_eff <- anova(lm_eff)"
   ]
  },
  {
   "cell_type": "code",
   "execution_count": 105,
   "metadata": {},
   "outputs": [
    {
     "data": {
      "text/html": [
       "<table class=\"dataframe\">\n",
       "<caption>A data.frame: 4 × 5</caption>\n",
       "<thead>\n",
       "\t<tr><th scope=col>Source</th><th scope=col>Df</th><th scope=col>Sum Sq</th><th scope=col>Mean Sq</th><th scope=col>Error Term</th></tr>\n",
       "\t<tr><th scope=col>&lt;chr&gt;</th><th scope=col>&lt;int&gt;</th><th scope=col>&lt;dbl&gt;</th><th scope=col>&lt;dbl&gt;</th><th scope=col>&lt;chr&gt;</th></tr>\n",
       "</thead>\n",
       "<tbody>\n",
       "\t<tr><td>Brand     </td><td> 1</td><td> 342.0072</td><td>342.007154</td><td>MSA </td></tr>\n",
       "\t<tr><td>Temp      </td><td> 2</td><td>1654.7366</td><td>827.368276</td><td>MSB </td></tr>\n",
       "\t<tr><td>Brand*Temp</td><td> 2</td><td> 231.8519</td><td>115.925956</td><td>MSAB</td></tr>\n",
       "\t<tr><td>Residual  </td><td>42</td><td> 141.1685</td><td>  3.361154</td><td>MSE </td></tr>\n",
       "</tbody>\n",
       "</table>\n"
      ],
      "text/latex": [
       "A data.frame: 4 × 5\n",
       "\\begin{tabular}{lllll}\n",
       " Source & Df & Sum Sq & Mean Sq & Error Term\\\\\n",
       " <chr> & <int> & <dbl> & <dbl> & <chr>\\\\\n",
       "\\hline\n",
       "\t Brand      &  1 &  342.0072 & 342.007154 & MSA \\\\\n",
       "\t Temp       &  2 & 1654.7366 & 827.368276 & MSB \\\\\n",
       "\t Brand*Temp &  2 &  231.8519 & 115.925956 & MSAB\\\\\n",
       "\t Residual   & 42 &  141.1685 &   3.361154 & MSE \\\\\n",
       "\\end{tabular}\n"
      ],
      "text/markdown": [
       "\n",
       "A data.frame: 4 × 5\n",
       "\n",
       "| Source &lt;chr&gt; | Df &lt;int&gt; | Sum Sq &lt;dbl&gt; | Mean Sq &lt;dbl&gt; | Error Term &lt;chr&gt; |\n",
       "|---|---|---|---|---|\n",
       "| Brand      |  1 |  342.0072 | 342.007154 | MSA  |\n",
       "| Temp       |  2 | 1654.7366 | 827.368276 | MSB  |\n",
       "| Brand*Temp |  2 |  231.8519 | 115.925956 | MSAB |\n",
       "| Residual   | 42 |  141.1685 |   3.361154 | MSE  |\n",
       "\n"
      ],
      "text/plain": [
       "  Source     Df Sum Sq    Mean Sq    Error Term\n",
       "1 Brand       1  342.0072 342.007154 MSA       \n",
       "2 Temp        2 1654.7366 827.368276 MSB       \n",
       "3 Brand*Temp  2  231.8519 115.925956 MSAB      \n",
       "4 Residual   42  141.1685   3.361154 MSE       "
      ]
     },
     "metadata": {},
     "output_type": "display_data"
    }
   ],
   "source": [
    "me_table <- as_tibble(anova_eff[,1:3])\n",
    "me_table <- cbind('Source' = c('Brand', 'Temp', 'Brand*Temp', 'Residual'), \n",
    "                  me_table, \n",
    "                  'Error Term' = c(\"MSA\", \"MSB\", \"MSAB\", \"MSE\"))\n",
    "me_table"
   ]
  },
  {
   "cell_type": "code",
   "execution_count": 164,
   "metadata": {},
   "outputs": [
    {
     "data": {
      "text/plain": [
       "\n",
       "\n",
       "Table: Mixed Effects Models\n",
       "\n",
       "|Source     | Df|    Sum Sq|    Mean Sq|Error Term | Error Df|   F Score|   Pr>F|\n",
       "|:----------|--:|---------:|----------:|:----------|--------:|---------:|------:|\n",
       "|Brand      |  1|  342.0072| 342.007154|MSA        |        2|  2.950221| 0.2280|\n",
       "|Temp       |  2| 1654.7366| 827.368276|MSB        |        2|  7.137041| 0.1229|\n",
       "|Brand*Temp |  2|  231.8519| 115.925956|MSAB       |       42| 34.489926| 0.0000|\n",
       "|Residual   | 42|  141.1685|   3.361154|MSE        |       NA|        NA|     NA|"
      ]
     },
     "metadata": {},
     "output_type": "display_data"
    },
    {
     "data": {
      "text/plain": [
       "\n",
       "\n",
       "Table: Model4: Brand is Fixed and Temperature is Random\n",
       "\n",
       "|Brand |     Mean|    Effect|\n",
       "|:-----|--------:|---------:|\n",
       "|name  | 73.44276|  0.000000|\n",
       "|store | 68.10416| -5.338595|"
      ]
     },
     "metadata": {},
     "output_type": "display_data"
    },
    {
     "data": {
      "text/plain": [
       "\n",
       "\n",
       "|Cov Parm   |Estimate         |\n",
       "|:----------|:----------------|\n",
       "|Temp       |44.4651449693106 |\n",
       "|Brand*Temp |14.0706002662374 |\n",
       "|Residual   |3.36115408186724 |"
      ]
     },
     "metadata": {},
     "output_type": "display_data"
    },
    {
     "data": {
      "text/plain": [
       "\n",
       "\n",
       "Table: Model5: Brand is Random and Temperature is Fixed\n",
       "\n",
       "|Temp |     Mean|     Effect|\n",
       "|:----|--------:|----------:|\n",
       "|6    | 78.00561|   0.000000|\n",
       "|23   | 70.69044|  -7.315177|\n",
       "|40   | 63.62433| -14.381286|"
      ]
     },
     "metadata": {},
     "output_type": "display_data"
    },
    {
     "data": {
      "text/plain": [
       "\n",
       "\n",
       "|Cov Parm   |Estimate         |\n",
       "|:----------|:----------------|\n",
       "|Brand      |9.42004992022257 |\n",
       "|Brand*Temp |14.0706002662374 |\n",
       "|Residual   |3.36115408186724 |"
      ]
     },
     "metadata": {},
     "output_type": "display_data"
    },
    {
     "data": {
      "text/plain": [
       "\n",
       "\n",
       "Table: Model6: Brand and Temperature are Random\n",
       "\n",
       "|Cov Parm   |Estimate         |\n",
       "|:----------|:----------------|\n",
       "|Brand      |9.42004992022257 |\n",
       "|Temp       |44.4651449693106 |\n",
       "|Brand*Temp |14.0706002662374 |\n",
       "|Residual   |3.36115408186724 |"
      ]
     },
     "metadata": {},
     "output_type": "display_data"
    }
   ],
   "source": [
    "me_table <- as_tibble(summary(aov_eff)[[1]][,1:3])\n",
    "me_table <- cbind('Source' = c('Brand', 'Temp', 'Brand*Temp', 'Residual'), \n",
    "                  me_table, \n",
    "                  'Error Term' = c(\"MSA\", \"MSB\", \"MSAB\", \"MSE\"))\n",
    "\n",
    "MSA <-  me_table[1, 4]\n",
    "MSB <-  me_table[2, 4]\n",
    "MSAB <- me_table[3, 4]\n",
    "MSE <-  me_table[4, 4]\n",
    "\n",
    "a <- length(levels(df_eff$Brand))\n",
    "b <- length(levels(df_eff$Temp))\n",
    "n <- nrow(df_eff)/(a*b)\n",
    "\n",
    "sigma_ab <- (MSAB - MSE) / n\n",
    "sigma_a <- (MSA - MSAB) / (b * n)\n",
    "sigma_b <- (MSB - MSAB) / (a*n)\n",
    "\n",
    "f_scores <- c(MSA/MSAB,MSB/MSAB,MSAB/MSE, NA)\n",
    "\n",
    "error_dof <- c(rep(tail(me_table$Df, n = 2)[1], 2), tail(me_table$Df, n = 1)[1], NA)\n",
    "\n",
    "me_table['Error Df'] <- error_dof\n",
    "\n",
    "me_table[\"F Score\"] <- f_scores\n",
    "f_test <- round(1 - pf(me_table['F Score'][[1]], \n",
    "                       me_table['Df'][[1]], \n",
    "                       me_table['Error Df'][[1]]),\n",
    "                4)\n",
    "\n",
    "me_table['Pr>F'] <- f_test\n",
    "\n",
    "\n",
    "\n",
    "name_mean <- df_eff %>% filter(Brand == 'name') %>% select(Time) %>% unlist() %>% mean()\n",
    "brand_fe <- df_eff %>% group_by(Brand) %>% summarise('Mean' = mean(Time), 'Effect' = Mean - name_mean)\n",
    "\n",
    "name_mean <- df_eff %>% filter(Temp == '6') %>% select(Time) %>% unlist() %>% mean()\n",
    "temp_fe <- df_eff %>% group_by(Temp) %>% summarise('Mean' = mean(Time), 'Effect' = Mean - name_mean)\n",
    "\n",
    "knitr::kable(me_table, caption = 'Mixed Effects Models')\n",
    "\n",
    "knitr::kable(brand_fe, caption = 'Model4: Brand is Fixed and Temperature is Random')\n",
    "knitr::kable(cbind(c('Temp', 'Brand*Temp', 'Residual'), \n",
    "                   c(sigma_b, sigma_ab, MSE)), col.names = c('Cov Parm', 'Estimate'))\n",
    "\n",
    "knitr::kable(temp_fe, caption = 'Model5: Brand is Random and Temperature is Fixed')\n",
    "knitr::kable(cbind(c('Brand', 'Brand*Temp', 'Residual'), \n",
    "                   c(sigma_a, sigma_ab, MSE)), col.names = c('Cov Parm', 'Estimate'))\n",
    "\n",
    "knitr::kable(cbind(c('Brand', 'Temp' , 'Brand*Temp', 'Residual'), \n",
    "                   c(sigma_a, sigma_b,sigma_ab, MSE)), col.names = c('Cov Parm', 'Estimate'), \n",
    "             caption = 'Model6: Brand and Temperature are Random')"
   ]
  },
  {
   "cell_type": "code",
   "execution_count": 161,
   "metadata": {},
   "outputs": [
    {
     "data": {
      "text/plain": [
       "Linear mixed model fit by REML. t-tests use Satterthwaite's method [\n",
       "lmerModLmerTest]\n",
       "Formula: Time ~ (1 | Brand) + Temp + (1 | Brand:Temp)\n",
       "   Data: df_eff\n",
       "\n",
       "REML criterion at convergence: 202.3\n",
       "\n",
       "Scaled residuals: \n",
       "     Min       1Q   Median       3Q      Max \n",
       "-2.93345 -0.48381  0.00386  0.74725  1.67968 \n",
       "\n",
       "Random effects:\n",
       " Groups     Name        Variance Std.Dev.\n",
       " Brand:Temp (Intercept) 14.071   3.751   \n",
       " Brand      (Intercept)  9.420   3.069   \n",
       " Residual                3.361   1.833   \n",
       "Number of obs: 48, groups:  Brand:Temp, 6; Brand, 2\n",
       "\n",
       "Fixed effects:\n",
       "            Estimate Std. Error      df t value Pr(>|t|)    \n",
       "(Intercept)   78.006      3.458   2.289  22.560 0.000972 ***\n",
       "Temp23        -7.315      3.807   2.000  -1.922 0.194593    \n",
       "Temp40       -14.381      3.807   2.000  -3.778 0.063467 .  \n",
       "---\n",
       "Signif. codes:  0 ‘***’ 0.001 ‘**’ 0.01 ‘*’ 0.05 ‘.’ 0.1 ‘ ’ 1\n",
       "\n",
       "Correlation of Fixed Effects:\n",
       "       (Intr) Temp23\n",
       "Temp23 -0.550       \n",
       "Temp40 -0.550  0.500"
      ]
     },
     "metadata": {},
     "output_type": "display_data"
    }
   ],
   "source": [
    "library(lmerTest)\n",
    "lm_mixed <- lmer(Time ~ (1|Brand) + Temp + (1|Brand:Temp), data = df_eff)\n",
    "summary(lm_mixed)"
   ]
  },
  {
   "cell_type": "code",
   "execution_count": null,
   "metadata": {},
   "outputs": [],
   "source": []
  }
 ],
 "metadata": {
  "kernelspec": {
   "display_name": "R",
   "language": "R",
   "name": "ir"
  },
  "language_info": {
   "codemirror_mode": "r",
   "file_extension": ".r",
   "mimetype": "text/x-r-source",
   "name": "R",
   "pygments_lexer": "r",
   "version": "4.2.2"
  }
 },
 "nbformat": 4,
 "nbformat_minor": 4
}
